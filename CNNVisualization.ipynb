{
 "cells": [
  {
   "cell_type": "code",
   "execution_count": 16,
   "metadata": {},
   "outputs": [],
   "source": [
    "import keras\n",
    "import tensorflow as tf\n",
    "import gc"
   ]
  },
  {
   "cell_type": "code",
   "execution_count": 35,
   "metadata": {},
   "outputs": [],
   "source": [
    "#Importing CIFAR10 dataset.\n",
    "(train_img, train_class), (test_img, test_class) = tf.keras.datasets.cifar10.load_data()"
   ]
  },
  {
   "cell_type": "code",
   "execution_count": 36,
   "metadata": {},
   "outputs": [
    {
     "name": "stdout",
     "output_type": "stream",
     "text": [
      "(50000, 32, 32, 3)\n",
      "\n",
      "[[[159 102 101]\n",
      "  [150  91  95]\n",
      "  [153  95  97]\n",
      "  ...\n",
      "  [ 91  71  56]\n",
      "  [ 74  63  55]\n",
      "  [ 76  58  55]]\n",
      "\n",
      " [[142  75  68]\n",
      "  [146  72  66]\n",
      "  [155  76  65]\n",
      "  ...\n",
      "  [127 105  71]\n",
      "  [122 111  93]\n",
      "  [ 86  69  61]]\n",
      "\n",
      " [[109  67  75]\n",
      "  [ 99  58  60]\n",
      "  [105  59  52]\n",
      "  ...\n",
      "  [137 112  80]\n",
      "  [163 132 105]\n",
      "  [ 93  72  71]]\n",
      "\n",
      " ...\n",
      "\n",
      " [[244 129  70]\n",
      "  [240 123  65]\n",
      "  [241 122  65]\n",
      "  ...\n",
      "  [156  42  15]\n",
      "  [179  59  26]\n",
      "  [200  73  36]]\n",
      "\n",
      " [[246 133  74]\n",
      "  [243 128  72]\n",
      "  [243 127  70]\n",
      "  ...\n",
      "  [162  44  14]\n",
      "  [178  56  22]\n",
      "  [192  65  27]]\n",
      "\n",
      " [[246 139  82]\n",
      "  [243 133  78]\n",
      "  [244 132  77]\n",
      "  ...\n",
      "  [166  47  14]\n",
      "  [173  51  17]\n",
      "  [182  57  19]]]\n",
      "\n",
      "[[[0.62352941 0.4        0.39607843]\n",
      "  [0.58823529 0.35686275 0.37254902]\n",
      "  [0.6        0.37254902 0.38039216]\n",
      "  ...\n",
      "  [0.35686275 0.27843137 0.21960784]\n",
      "  [0.29019608 0.24705882 0.21568627]\n",
      "  [0.29803922 0.22745098 0.21568627]]\n",
      "\n",
      " [[0.55686275 0.29411765 0.26666667]\n",
      "  [0.57254902 0.28235294 0.25882353]\n",
      "  [0.60784314 0.29803922 0.25490196]\n",
      "  ...\n",
      "  [0.49803922 0.41176471 0.27843137]\n",
      "  [0.47843137 0.43529412 0.36470588]\n",
      "  [0.3372549  0.27058824 0.23921569]]\n",
      "\n",
      " [[0.42745098 0.2627451  0.29411765]\n",
      "  [0.38823529 0.22745098 0.23529412]\n",
      "  [0.41176471 0.23137255 0.20392157]\n",
      "  ...\n",
      "  [0.5372549  0.43921569 0.31372549]\n",
      "  [0.63921569 0.51764706 0.41176471]\n",
      "  [0.36470588 0.28235294 0.27843137]]\n",
      "\n",
      " ...\n",
      "\n",
      " [[0.95686275 0.50588235 0.2745098 ]\n",
      "  [0.94117647 0.48235294 0.25490196]\n",
      "  [0.94509804 0.47843137 0.25490196]\n",
      "  ...\n",
      "  [0.61176471 0.16470588 0.05882353]\n",
      "  [0.70196078 0.23137255 0.10196078]\n",
      "  [0.78431373 0.28627451 0.14117647]]\n",
      "\n",
      " [[0.96470588 0.52156863 0.29019608]\n",
      "  [0.95294118 0.50196078 0.28235294]\n",
      "  [0.95294118 0.49803922 0.2745098 ]\n",
      "  ...\n",
      "  [0.63529412 0.17254902 0.05490196]\n",
      "  [0.69803922 0.21960784 0.08627451]\n",
      "  [0.75294118 0.25490196 0.10588235]]\n",
      "\n",
      " [[0.96470588 0.54509804 0.32156863]\n",
      "  [0.95294118 0.52156863 0.30588235]\n",
      "  [0.95686275 0.51764706 0.30196078]\n",
      "  ...\n",
      "  [0.65098039 0.18431373 0.05490196]\n",
      "  [0.67843137 0.2        0.06666667]\n",
      "  [0.71372549 0.22352941 0.0745098 ]]]\n",
      "\n"
     ]
    }
   ],
   "source": [
    "#Rescaling dataset between 0 and 1, and getting a look at the data.\n",
    "X_train_CNN = train_img/255.0\n",
    "X_test_CNN = test_img/255.0\n",
    "print(train_img.shape, end=\"\\n\\n\")\n",
    "print(train_img[5], end=\"\\n\\n\")\n",
    "print(X_train_CNN[5], end=\"\\n\\n\")"
   ]
  },
  {
   "cell_type": "code",
   "execution_count": 42,
   "metadata": {},
   "outputs": [
    {
     "name": "stdout",
     "output_type": "stream",
     "text": [
      "(50000, 10)\n",
      "\n",
      "[1]\n",
      "\n",
      "[0. 1. 0. 0. 0. 0. 0. 0. 0. 0.]\n",
      "\n"
     ]
    }
   ],
   "source": [
    "#Convert classes to one-hot form.\n",
    "Y_train_CNN = keras.utils.np_utils.to_categorical(train_class, num_classes=10)\n",
    "Y_test_CNN = keras.utils.np_utils.to_categorical(test_class, num_classes=10)\n",
    "print(Y_train_CNN.shape, end = \"\\n\\n\")\n",
    "print(train_class[5], end=\"\\n\\n\")\n",
    "print(Y_train_CNN[5], end=\"\\n\\n\")"
   ]
  },
  {
   "cell_type": "code",
   "execution_count": 47,
   "metadata": {},
   "outputs": [],
   "source": [
    "def create_cnn_classifier(input_shape):\n",
    "    \"\"\"\n",
    "    This creates a cnn model for the CIFAR10 classfication.\n",
    "    \"\"\"\n",
    "    \n",
    "    inputs = keras.Input(shape=input_shape, name=\"inputs\")\n",
    "    conv_layer_1 = keras.layers.Conv2D(16, 3, name=\"conv_layer_1\")(inputs)\n",
    "    act_layer_1 = keras.layers.ReLU(name = \"act_layer_1\")(conv_layer_1)\n",
    "    pool_layer_1 = keras.layers.MaxPool2D(2, 2, name=\"pool_layer_1\")(act_layer_1)\n",
    "    conv_layer_2 = keras.layers.Conv2D(32, 3, name=\"conv_layer_2\")(pool_layer_1)\n",
    "    act_layer_2 = keras.layers.ReLU(name=\"act_layer_2\")(conv_layer_2)\n",
    "    pool_layer_2 = keras.layers.MaxPool2D(2, 2, name=\"pool_layer_2\")(act_layer_2)\n",
    "    conv_layer_3 = keras.layers.Conv2D(64, 3, name=\"conv_layer_3\")(pool_layer_2)\n",
    "    act_layer_3 = keras.layers.ReLU(name=\"act_layer_3\")(conv_layer_3)\n",
    "    pool_layer_3 = keras.layers.MaxPool2D(2, 2, name=\"pool_layer_3\")(act_layer_3)\n",
    "    flatten_layer = keras.layers.Flatten(name=\"flatten_layer\")(pool_layer_3)\n",
    "    outputs = keras.layers.Dense(10, activation=\"softmax\", name=\"outputs\")(flatten_layer)\n",
    "    \n",
    "    model = keras.Model(inputs, outputs)\n",
    "    \n",
    "    return model"
   ]
  },
  {
   "cell_type": "code",
   "execution_count": 48,
   "metadata": {},
   "outputs": [
    {
     "name": "stdout",
     "output_type": "stream",
     "text": [
      "Model: \"model_18\"\n",
      "_________________________________________________________________\n",
      "Layer (type)                 Output Shape              Param #   \n",
      "=================================================================\n",
      "inputs (InputLayer)          (None, 32, 32, 3)         0         \n",
      "_________________________________________________________________\n",
      "conv_layer_1 (Conv2D)        (None, 30, 30, 16)        448       \n",
      "_________________________________________________________________\n",
      "act_layer_1 (ReLU)           (None, 30, 30, 16)        0         \n",
      "_________________________________________________________________\n",
      "pool_layer_1 (MaxPooling2D)  (None, 15, 15, 16)        0         \n",
      "_________________________________________________________________\n",
      "conv_layer_2 (Conv2D)        (None, 13, 13, 32)        4640      \n",
      "_________________________________________________________________\n",
      "act_layer_2 (ReLU)           (None, 13, 13, 32)        0         \n",
      "_________________________________________________________________\n",
      "pool_layer_2 (MaxPooling2D)  (None, 6, 6, 32)          0         \n",
      "_________________________________________________________________\n",
      "conv_layer_3 (Conv2D)        (None, 4, 4, 64)          18496     \n",
      "_________________________________________________________________\n",
      "act_layer_3 (ReLU)           (None, 4, 4, 64)          0         \n",
      "_________________________________________________________________\n",
      "pool_layer_3 (MaxPooling2D)  (None, 2, 2, 64)          0         \n",
      "_________________________________________________________________\n",
      "flatten_layer (Flatten)      (None, 256)               0         \n",
      "_________________________________________________________________\n",
      "outputs (Dense)              (None, 10)                2570      \n",
      "=================================================================\n",
      "Total params: 26,154\n",
      "Trainable params: 26,154\n",
      "Non-trainable params: 0\n",
      "_________________________________________________________________\n"
     ]
    }
   ],
   "source": [
    "#A look at the CNN thus made.\n",
    "cnn_model = create_cnn_classifier(X_train_CNN.shape[1:])\n",
    "cnn_model.summary()"
   ]
  },
  {
   "cell_type": "code",
   "execution_count": 49,
   "metadata": {},
   "outputs": [
    {
     "name": "stdout",
     "output_type": "stream",
     "text": [
      "Train on 50000 samples, validate on 10000 samples\n",
      "Epoch 1/10\n",
      "50000/50000 [==============================] - 71s 1ms/step - loss: 1.6003 - categorical_accuracy: 0.4158 - val_loss: 1.4641 - val_categorical_accuracy: 0.4825\n",
      "Epoch 2/10\n",
      "50000/50000 [==============================] - 74s 1ms/step - loss: 1.2824 - categorical_accuracy: 0.5465 - val_loss: 1.2508 - val_categorical_accuracy: 0.5540\n",
      "Epoch 3/10\n",
      "50000/50000 [==============================] - 72s 1ms/step - loss: 1.1531 - categorical_accuracy: 0.5985 - val_loss: 1.1521 - val_categorical_accuracy: 0.5973\n",
      "Epoch 4/10\n",
      "50000/50000 [==============================] - 74s 1ms/step - loss: 1.0672 - categorical_accuracy: 0.6282 - val_loss: 1.1105 - val_categorical_accuracy: 0.6110\n",
      "Epoch 5/10\n",
      "50000/50000 [==============================] - 79s 2ms/step - loss: 1.0058 - categorical_accuracy: 0.6505 - val_loss: 1.0388 - val_categorical_accuracy: 0.6368\n",
      "Epoch 6/10\n",
      "50000/50000 [==============================] - 76s 2ms/step - loss: 0.9559 - categorical_accuracy: 0.6679 - val_loss: 1.0230 - val_categorical_accuracy: 0.6471\n",
      "Epoch 7/10\n",
      "50000/50000 [==============================] - 84s 2ms/step - loss: 0.9155 - categorical_accuracy: 0.6805 - val_loss: 0.9717 - val_categorical_accuracy: 0.6663\n",
      "Epoch 8/10\n",
      "50000/50000 [==============================] - 91s 2ms/step - loss: 0.8852 - categorical_accuracy: 0.6925 - val_loss: 0.9694 - val_categorical_accuracy: 0.6711\n",
      "Epoch 9/10\n",
      "50000/50000 [==============================] - 77s 2ms/step - loss: 0.8563 - categorical_accuracy: 0.7001 - val_loss: 0.9467 - val_categorical_accuracy: 0.6807\n",
      "Epoch 10/10\n",
      "50000/50000 [==============================] - 76s 2ms/step - loss: 0.8311 - categorical_accuracy: 0.7103 - val_loss: 0.9654 - val_categorical_accuracy: 0.6748\n"
     ]
    },
    {
     "data": {
      "text/plain": [
       "<keras.callbacks.callbacks.History at 0x21d04dfd648>"
      ]
     },
     "execution_count": 49,
     "metadata": {},
     "output_type": "execute_result"
    }
   ],
   "source": [
    "cnn_model.compile(optimizer=keras.optimizers.Adam(), loss=keras.losses.categorical_crossentropy, metrics=[keras.metrics.CategoricalAccuracy()])\n",
    "cnn_model.fit(X_train_CNN, Y_train_CNN, batch_size=32, epochs=10, validation_data=(X_test_CNN, Y_test_CNN))"
   ]
  },
  {
   "cell_type": "code",
   "execution_count": 67,
   "metadata": {},
   "outputs": [
    {
     "name": "stdout",
     "output_type": "stream",
     "text": [
      "Model: \"model_24\"\n",
      "_________________________________________________________________\n",
      "Layer (type)                 Output Shape              Param #   \n",
      "=================================================================\n",
      "inputs (InputLayer)          (None, 32, 32, 3)         0         \n",
      "_________________________________________________________________\n",
      "conv_layer_1 (Conv2D)        (None, 30, 30, 16)        448       \n",
      "_________________________________________________________________\n",
      "act_layer_1 (ReLU)           (None, 30, 30, 16)        0         \n",
      "_________________________________________________________________\n",
      "pool_layer_1 (MaxPooling2D)  (None, 15, 15, 16)        0         \n",
      "_________________________________________________________________\n",
      "upsample_1 (UpSampling2D)    (None, 30, 30, 16)        0         \n",
      "_________________________________________________________________\n",
      "relu_1 (ReLU)                (None, 30, 30, 16)        0         \n",
      "_________________________________________________________________\n",
      "deconv_1 (Conv2DTranspose)   (None, 32, 32, 16)        2320      \n",
      "_________________________________________________________________\n",
      "final_conv (Conv2D)          (None, 32, 32, 3)         51        \n",
      "=================================================================\n",
      "Total params: 2,819\n",
      "Trainable params: 2,371\n",
      "Non-trainable params: 448\n",
      "_________________________________________________________________\n"
     ]
    }
   ],
   "source": [
    "def deconv_layer_1(model_in, input_shape):\n",
    "    \"\"\"\n",
    "    Deconvolution to check shape.\n",
    "    \"\"\"\n",
    "    input_layer = model_in.input\n",
    "    conv_out = model_in.get_layer(\"pool_layer_1\").output\n",
    "    upsample_1 = keras.layers.UpSampling2D(2, name=\"upsample_1\")(conv_out)\n",
    "    relu_1 = keras.layers.ReLU(name=\"relu_1\")(upsample_1)\n",
    "    deconv_1 = keras.layers.Conv2DTranspose(16, 3, name=\"deconv_1\")(relu_1)\n",
    "    final_conv = keras.layers.Conv2D(3, 1, activation=\"sigmoid\", name=\"final_conv\")(deconv_1)\n",
    "    \n",
    "    model = keras.Model(input_layer, final_conv)\n",
    "    \n",
    "    for layer in model.layers:\n",
    "        if layer.name not in [\"upsample_1\", \"relu_1\", \"deconv_1\", \"final_conv\"]:\n",
    "            layer.trainable=False\n",
    "    \n",
    "    return model\n",
    "\n",
    "deconv_model_1 = deconv_layer_1(cnn_model, X_train_CNN.shape[1:])\n",
    "deconv_model_1.summary()"
   ]
  },
  {
   "cell_type": "code",
   "execution_count": 68,
   "metadata": {},
   "outputs": [
    {
     "name": "stdout",
     "output_type": "stream",
     "text": [
      "Train on 50000 samples, validate on 10000 samples\n",
      "Epoch 1/10\n",
      "50000/50000 [==============================] - 139s 3ms/step - loss: 0.5808 - val_loss: 0.5759\n",
      "Epoch 2/10\n",
      "50000/50000 [==============================] - 156s 3ms/step - loss: 0.5753 - val_loss: 0.5758\n",
      "Epoch 3/10\n",
      "50000/50000 [==============================] - 131s 3ms/step - loss: 0.5753 - val_loss: 0.5760\n",
      "Epoch 4/10\n",
      "50000/50000 [==============================] - 121s 2ms/step - loss: 0.5752 - val_loss: 0.5758\n",
      "Epoch 5/10\n",
      "50000/50000 [==============================] - 121s 2ms/step - loss: 0.5752 - val_loss: 0.5758\n",
      "Epoch 6/10\n",
      "50000/50000 [==============================] - 122s 2ms/step - loss: 0.5752 - val_loss: 0.5757ss: 0.\n",
      "Epoch 7/10\n",
      "50000/50000 [==============================] - 137s 3ms/step - loss: 0.5752 - val_loss: 0.5758\n",
      "Epoch 8/10\n",
      "50000/50000 [==============================] - 133s 3ms/step - loss: 0.5752 - val_loss: 0.5757\n",
      "Epoch 9/10\n",
      "50000/50000 [==============================] - 140s 3ms/step - loss: 0.5752 - val_loss: 0.5758\n",
      "Epoch 10/10\n",
      "50000/50000 [==============================] - 141s 3ms/step - loss: 0.5752 - val_loss: 0.5757\n"
     ]
    },
    {
     "data": {
      "text/plain": [
       "<keras.callbacks.callbacks.History at 0x21d09533888>"
      ]
     },
     "execution_count": 68,
     "metadata": {},
     "output_type": "execute_result"
    }
   ],
   "source": [
    "deconv_model_1.compile(optimizer=keras.optimizers.Adam(), loss=keras.losses.binary_crossentropy)\n",
    "deconv_model_1.fit(X_train_CNN, X_train_CNN, batch_size=32, epochs = 10, validation_data=(X_test_CNN, X_test_CNN))"
   ]
  },
  {
   "cell_type": "code",
   "execution_count": 69,
   "metadata": {},
   "outputs": [
    {
     "data": {
      "text/plain": [
       "<matplotlib.image.AxesImage at 0x21d0a6c7d08>"
      ]
     },
     "execution_count": 69,
     "metadata": {},
     "output_type": "execute_result"
    },
    {
     "data": {
      "image/png": "[encoded data removed]",
      "text/plain": [
       "<Figure size 1440x1440 with 4 Axes>"
      ]
     },
     "metadata": {
      "needs_background": "light"
     },
     "output_type": "display_data"
    }
   ],
   "source": [
    "#Example reconstruction of filters\n",
    "\n",
    "import matplotlib.pyplot as plt\n",
    "\n",
    "\n",
    "fig, ax = plt.subplots(2,2, figsize=(20, 20))\n",
    "ax[0,0].imshow(X_test_CNN[83])\n",
    "ax[0,1].imshow(deconv_model_1.predict(X_test_CNN[83:84]).reshape(X_test_CNN.shape[1:]))\n",
    "ax[1,0].imshow(X_test_CNN[7])\n",
    "ax[1,1].imshow(deconv_model_1.predict(X_test_CNN[7:8]).reshape(X_test_CNN.shape[1:]))"
   ]
  }
 ],
 "metadata": {
  "kernelspec": {
   "display_name": "Python 3",
   "language": "python",
   "name": "python3"
  },
  "language_info": {
   "codemirror_mode": {
    "name": "ipython",
    "version": 3
   },
   "file_extension": ".py",
   "mimetype": "text/x-python",
   "name": "python",
   "nbconvert_exporter": "python",
   "pygments_lexer": "ipython3",
   "version": "3.7.6"
  }
 },
 "nbformat": 4,
 "nbformat_minor": 4
}
